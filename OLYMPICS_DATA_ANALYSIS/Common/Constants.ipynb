{
 "cells": [
  {
   "cell_type": "code",
   "execution_count": 0,
   "metadata": {
    "application/vnd.databricks.v1+cell": {
     "cellMetadata": {},
     "inputWidgets": {},
     "nuid": "b12936af-cf65-4378-9ee4-50a8a614b679",
     "showTitle": false,
     "tableResultSettingsMap": {},
     "title": ""
    }
   },
   "outputs": [],
   "source": [
    "# 9th Nov 2024 -  Creating notebook for all common imports"
   ]
  },
  {
   "cell_type": "code",
   "execution_count": 0,
   "metadata": {
    "application/vnd.databricks.v1+cell": {
     "cellMetadata": {
      "byteLimit": 2048000,
      "rowLimit": 10000
     },
     "inputWidgets": {},
     "nuid": "d1e2abf5-742f-4859-bf38-1def2de76c36",
     "showTitle": false,
     "tableResultSettingsMap": {},
     "title": ""
    }
   },
   "outputs": [],
   "source": [
    "from pyspark.sql.functions import *"
   ]
  },
  {
   "cell_type": "code",
   "execution_count": 0,
   "metadata": {
    "application/vnd.databricks.v1+cell": {
     "cellMetadata": {
      "byteLimit": 2048000,
      "rowLimit": 10000
     },
     "inputWidgets": {},
     "nuid": "a095245f-95c3-4690-b39d-650f14c3604d",
     "showTitle": true,
     "tableResultSettingsMap": {},
     "title": "Defining Common paths"
    }
   },
   "outputs": [],
   "source": [
    "class inputPath:\n",
    "\n",
    "  rootFolder = 'dbfs:/FileStore/OlympicsData/'\n",
    "\n",
    "  files = {\n",
    "    'Athletes' : rootFolder + 'Athletes.xlsx',\n",
    "    'Coaches' : rootFolder + 'Coaches.xlsx',\n",
    "    'EntriesGender' : rootFolder + 'EntriesGender.xlsx',\n",
    "    'Medals' : rootFolder + 'Medals.xlsx',\n",
    "    'Teams' : rootFolder + 'Teams.xlsx',\n",
    "  }\n",
    "\n",
    "class outputPath:\n",
    "\n",
    "  rootFolder = 'dbfs:/FileStore/OlympicsData/table/'\n",
    "\n",
    "  table = {\n",
    "    'medal' : rootFolder + 'medal/'\n",
    "  }\n"
   ]
  },
  {
   "cell_type": "code",
   "execution_count": 0,
   "metadata": {
    "application/vnd.databricks.v1+cell": {
     "cellMetadata": {},
     "inputWidgets": {},
     "nuid": "65fb4889-edd1-47e2-8950-bc7d2acc7c03",
     "showTitle": false,
     "tableResultSettingsMap": {},
     "title": ""
    }
   },
   "outputs": [],
   "source": [
    "print('Files loaded successfully')"
   ]
  }
 ],
 "metadata": {
  "application/vnd.databricks.v1+notebook": {
   "dashboards": [],
   "environmentMetadata": null,
   "language": "python",
   "notebookMetadata": {
    "mostRecentlyExecutedCommandWithImplicitDF": {
     "commandId": 2140086525127544,
     "dataframes": [
      "_sqldf"
     ]
    },
    "pythonIndentUnit": 2
   },
   "notebookName": "Constants",
   "widgets": {}
  }
 },
 "nbformat": 4,
 "nbformat_minor": 0
}
